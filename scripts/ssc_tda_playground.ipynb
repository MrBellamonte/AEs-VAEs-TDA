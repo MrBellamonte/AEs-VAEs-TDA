{
 "cells": [
  {
   "cell_type": "code",
   "execution_count": 1,
   "metadata": {
    "collapsed": true,
    "pycharm": {
     "is_executing": false,
     "name": "#%%\n"
    }
   },
   "outputs": [],
   "source": [
    "import tadasets\n",
    "import gudhi as gd\n",
    "import numpy as np\n",
    "\n",
    "from utils.plotting import plot_simplicial_complex\n",
    "\n",
    "\n",
    "data = tadasets.infty_sign(n=35, noise = 0.07)\n",
    "\n",
    "alpha_complex = gd.AlphaComplex(points = data)\n",
    "rips_complex = gd.RipsComplex(points = data)"
   ]
  },
  {
   "cell_type": "code",
   "execution_count": 4,
   "outputs": [
    {
     "name": "stdout",
     "text": [
      "Doing spatial.Delaunay triangulation...\n",
      "Finished spatial.Delaunay triangulation (Elapsed Time 0.000768)\n",
      "Building alpha filtration...\n",
      "Finished building alpha filtration (Elapsed Time 0.0267)\n"
     ],
     "output_type": "stream"
    }
   ],
   "source": [
    "import cechmate\n",
    "\n",
    "r = cechmate.Alpha()\n",
    "simp = r.build(X = data)"
   ],
   "metadata": {
    "collapsed": false,
    "pycharm": {
     "name": "#%%\n",
     "is_executing": false
    }
   }
  },
  {
   "cell_type": "code",
   "execution_count": 11,
   "outputs": [
    {
     "name": "stdout",
     "text": [
      "<class 'cechmate.filtrations.alpha.Alpha'>\n"
     ],
     "output_type": "stream"
    }
   ],
   "source": [
    "print(type(r))"
   ],
   "metadata": {
    "collapsed": false,
    "pycharm": {
     "name": "#%%\n",
     "is_executing": false
    }
   }
  },
  {
   "cell_type": "code",
   "execution_count": 9,
   "outputs": [
    {
     "data": {
      "text/plain": "<Figure size 432x288 with 1 Axes>",
      "image/png": "[encoded data removed]"
     },
     "metadata": {
      "needs_background": "light"
     },
     "output_type": "display_data"
    }
   ],
   "source": [
    "plot_simplicial_complex(simp, data, 0.2)"
   ],
   "metadata": {
    "collapsed": false,
    "pycharm": {
     "name": "#%% Plot Alpha Complex\n",
     "is_executing": false
    }
   }
  },
  {
   "cell_type": "code",
   "execution_count": 3,
   "outputs": [
    {
     "name": "stdout",
     "text": [
      "[[ 1.01169369  0.03782967]\n",
      " [ 1.0717422   0.35509947]\n",
      " [ 0.77678291  0.66325798]\n",
      " [ 0.82650046  0.82574109]\n",
      " [ 0.71087894  1.01478944]\n",
      " [ 0.60971036  0.98721802]\n",
      " [ 0.37058996  1.0073792 ]\n",
      " [ 0.28783549  0.59507987]\n",
      " [ 0.21783863  0.28683486]\n",
      " [-0.02512861 -0.27548314]\n",
      " [-0.15253684 -0.46910739]\n",
      " [-0.41173778 -0.65178065]\n",
      " [-0.58942561 -0.96923645]\n",
      " [-0.67672103 -1.10228421]\n",
      " [-0.85084048 -0.85361289]\n",
      " [-0.94033844 -0.80874414]\n",
      " [-0.90897293 -0.51777692]\n",
      " [-1.02406486 -0.30386596]\n",
      " [-0.9696683   0.2867497 ]\n",
      " [-1.06167632  0.56851067]\n",
      " [-1.02321652  0.73302244]\n",
      " [-0.707239    1.03925112]\n",
      " [-0.73631263  0.90591144]\n",
      " [-0.48736383  0.82540844]\n",
      " [-0.33611801  0.72751232]\n",
      " [-0.20850626  0.30205887]\n",
      " [ 0.19642314  0.0497752 ]\n",
      " [-0.01702541 -0.35861032]\n",
      " [ 0.35535367 -0.65219589]\n",
      " [ 0.40096789 -0.92093371]\n",
      " [ 0.70852339 -0.9088589 ]\n",
      " [ 0.75283988 -1.01721363]\n",
      " [ 0.7836749  -0.92658649]\n",
      " [ 0.98228332 -0.75492071]\n",
      " [ 0.93187321 -0.4302138 ]]\n"
     ],
     "output_type": "stream"
    }
   ],
   "source": [
    "simplex_tree = alpha_complex.create_simplex_tree()\n",
    "points = np.array([alpha_complex.get_point(i) for i in range(simplex_tree.num_vertices())])\n",
    "print(points)"
   ],
   "metadata": {
    "collapsed": false,
    "pycharm": {
     "name": "#%% Plot Rips Complex\n",
     "is_executing": false
    }
   }
  },
  {
   "cell_type": "code",
   "execution_count": 4,
   "outputs": [
    {
     "name": "stdout",
     "text": [
      "[[ 1.01169369  0.03782967]\n",
      " [ 1.0717422   0.35509947]\n",
      " [ 0.77678291  0.66325798]\n",
      " [ 0.82650046  0.82574109]\n",
      " [ 0.71087894  1.01478944]\n",
      " [ 0.60971036  0.98721802]\n",
      " [ 0.37058996  1.0073792 ]\n",
      " [ 0.28783549  0.59507987]\n",
      " [ 0.21783863  0.28683486]\n",
      " [-0.02512861 -0.27548314]\n",
      " [-0.15253684 -0.46910739]\n",
      " [-0.41173778 -0.65178065]\n",
      " [-0.58942561 -0.96923645]\n",
      " [-0.67672103 -1.10228421]\n",
      " [-0.85084048 -0.85361289]\n",
      " [-0.94033844 -0.80874414]\n",
      " [-0.90897293 -0.51777692]\n",
      " [-1.02406486 -0.30386596]\n",
      " [-0.9696683   0.2867497 ]\n",
      " [-1.06167632  0.56851067]\n",
      " [-1.02321652  0.73302244]\n",
      " [-0.707239    1.03925112]\n",
      " [-0.73631263  0.90591144]\n",
      " [-0.48736383  0.82540844]\n",
      " [-0.33611801  0.72751232]\n",
      " [-0.20850626  0.30205887]\n",
      " [ 0.19642314  0.0497752 ]\n",
      " [-0.01702541 -0.35861032]\n",
      " [ 0.35535367 -0.65219589]\n",
      " [ 0.40096789 -0.92093371]\n",
      " [ 0.70852339 -0.9088589 ]\n",
      " [ 0.75283988 -1.01721363]\n",
      " [ 0.7836749  -0.92658649]\n",
      " [ 0.98228332 -0.75492071]\n",
      " [ 0.93187321 -0.4302138 ]]\n"
     ],
     "output_type": "stream"
    }
   ],
   "source": [
    "print(data)"
   ],
   "metadata": {
    "collapsed": false,
    "pycharm": {
     "name": "#%%\n",
     "is_executing": false
    }
   }
  },
  {
   "cell_type": "code",
   "execution_count": 4,
   "outputs": [],
   "source": [
    "\n"
   ],
   "metadata": {
    "collapsed": false,
    "pycharm": {
     "name": "#%%\n",
     "is_executing": false
    }
   }
  }
 ],
 "metadata": {
  "kernelspec": {
   "display_name": "Python 3",
   "language": "python",
   "name": "python3"
  },
  "language_info": {
   "codemirror_mode": {
    "name": "ipython",
    "version": 2
   },
   "file_extension": ".py",
   "mimetype": "text/x-python",
   "name": "python",
   "nbconvert_exporter": "python",
   "pygments_lexer": "ipython2",
   "version": "2.7.6"
  },
  "pycharm": {
   "stem_cell": {
    "cell_type": "raw",
    "source": [],
    "metadata": {
     "collapsed": false
    }
   }
  }
 },
 "nbformat": 4,
 "nbformat_minor": 0
}